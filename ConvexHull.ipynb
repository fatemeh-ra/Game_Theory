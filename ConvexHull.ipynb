{
 "cells": [
  {
   "cell_type": "markdown",
   "metadata": {},
   "source": [
    "# Part1 : Convex hull of feasible payoffs"
   ]
  },
  {
   "cell_type": "markdown",
   "metadata": {},
   "source": [
    "<img src = \"Images/hull.png\">\n",
    "\n",
    "### the input representation:\n",
    "#### first line:\n",
    "number of player1 strategies, number of player2 strategies\n",
    "#### N lines\n",
    "The utility matrix"
   ]
  },
  {
   "cell_type": "code",
   "execution_count": 1,
   "metadata": {},
   "outputs": [
    {
     "ename": "ModuleNotFoundError",
     "evalue": "No module named 'matplotlib'",
     "output_type": "error",
     "traceback": [
      "\u001b[0;31m---------------------------------------------------------------------------\u001b[0m",
      "\u001b[0;31mModuleNotFoundError\u001b[0m                       Traceback (most recent call last)",
      "\u001b[0;32m<ipython-input-1-e0e1492b7973>\u001b[0m in \u001b[0;36m<module>\u001b[0;34m\u001b[0m\n\u001b[1;32m      1\u001b[0m \u001b[0;32mimport\u001b[0m \u001b[0mnumpy\u001b[0m \u001b[0;32mas\u001b[0m \u001b[0mnp\u001b[0m\u001b[0;34m\u001b[0m\u001b[0;34m\u001b[0m\u001b[0m\n\u001b[0;32m----> 2\u001b[0;31m \u001b[0;32mimport\u001b[0m \u001b[0mmatplotlib\u001b[0m\u001b[0;34m.\u001b[0m\u001b[0mpyplot\u001b[0m \u001b[0;32mas\u001b[0m \u001b[0mplt\u001b[0m\u001b[0;34m\u001b[0m\u001b[0;34m\u001b[0m\u001b[0m\n\u001b[0m",
      "\u001b[0;31mModuleNotFoundError\u001b[0m: No module named 'matplotlib'"
     ]
    }
   ],
   "source": [
    "import numpy as np\n",
    "import matplotlib.pyplot as plt"
   ]
  },
  {
   "cell_type": "code",
   "execution_count": 2,
   "metadata": {},
   "outputs": [],
   "source": [
    "def read_input(path):\n",
    "    f = open(path, 'r')\n",
    "    N1, N2 = [int(i) for i in f.readline().split()]\n",
    "\n",
    "    utilities = []\n",
    "    c = 0\n",
    "    for i in range(N1):\n",
    "        inp = f.readline().split()\n",
    "        for k in inp:\n",
    "            utilities.append(tuple([int(j) for j in k.split(',')]))\n",
    "    return utilities, N1*N2"
   ]
  },
  {
   "cell_type": "code",
   "execution_count": 4,
   "metadata": {},
   "outputs": [],
   "source": [
    "def is_left(P0, P1, P):\n",
    "    return (P1[0] - P0[0])*(P[1] - P0[1]) - (P[0] - P0[0])*(P1[1] - P0[1])\n",
    "    \n",
    "def convex_hull_points(points, N):\n",
    "    points.sort()\n",
    "    minmax = minmin = 0\n",
    "    maxmin = maxmax = N-1\n",
    "    i = 1\n",
    "    while points[i][0] == points[0][0] : i += 1\n",
    "    minmax = i-1\n",
    "    i = N-2\n",
    "    while points[i][0] == points[N-1][0] : i -= 1\n",
    "    maxmin = i+1\n",
    "    ## the lower hull\n",
    "    hull = [points[minmin]]\n",
    "    i = minmax\n",
    "    while i < maxmin :\n",
    "        i += 1\n",
    "        if is_left(points[minmin], points[maxmin], points[i]) > 0: continue\n",
    "        while(len(hull) > 1):\n",
    "            if is_left(hull[-2], hull[-1], points[i]) > 0 : break\n",
    "            else: hull.pop()\n",
    "        hull.append(points[i])\n",
    "\n",
    "    \n",
    "    ## the upper hull\n",
    "    if maxmin != maxmax : hull.append(points[maxmax])\n",
    "    i = maxmin\n",
    "    while(i > minmax):\n",
    "        i -= 1\n",
    "        if is_left(points[maxmax], points[minmax], points[i]) > 0: continue\n",
    "        while(len(hull) > 1):\n",
    "            if is_left(hull[-2], hull[-1], points[i]) > 0 : break\n",
    "            else: hull.pop()\n",
    "        hull.append(points[i])\n",
    "        \n",
    "    if minmin != minmax : hull.append(points[minmin])\n",
    "    \n",
    "    return hull"
   ]
  },
  {
   "cell_type": "code",
   "execution_count": 5,
   "metadata": {},
   "outputs": [],
   "source": [
    "def plot_convex_hull(utilities, points):\n",
    "    u = np.array(utilities)\n",
    "    plt.plot(u[:,0], u[:,1], 'o')\n",
    "    \n",
    "    for i in range(len(points)-1):\n",
    "        plt.plot([points[i][0], points[i+1][0]], [points[i][1], points[i+1][1]], 'r-')"
   ]
  },
  {
   "cell_type": "markdown",
   "metadata": {},
   "source": [
    "## Example 1"
   ]
  },
  {
   "cell_type": "code",
   "execution_count": 7,
   "metadata": {},
   "outputs": [
    {
     "data": {
      "image/png": "[encoded data removed]",
      "text/plain": [
       "<Figure size 432x288 with 1 Axes>"
      ]
     },
     "metadata": {},
     "output_type": "display_data"
    }
   ],
   "source": [
    "utilities, N = read_input('Test_Cases/test2_1.txt')\n",
    "points = convex_hull_points(utilities, N)\n",
    "plot_convex_hull(utilities, points)"
   ]
  },
  {
   "cell_type": "markdown",
   "metadata": {},
   "source": [
    "the pareto optimal pure strategies depicted with orange color"
   ]
  },
  {
   "cell_type": "markdown",
   "metadata": {},
   "source": [
    "## Example 2"
   ]
  },
  {
   "cell_type": "code",
   "execution_count": 8,
   "metadata": {},
   "outputs": [
    {
     "data": {
      "image/png": "[encoded data removed]",
      "text/plain": [
       "<Figure size 432x288 with 1 Axes>"
      ]
     },
     "metadata": {},
     "output_type": "display_data"
    }
   ],
   "source": [
    "utilities, N = read_input('Test_Cases/test2_2.txt')\n",
    "points = convex_hull_points(utilities, N)\n",
    "plot_convex_hull(utilities, points)"
   ]
  },
  {
   "cell_type": "markdown",
   "metadata": {},
   "source": [
    "## Example 3"
   ]
  },
  {
   "cell_type": "code",
   "execution_count": 9,
   "metadata": {
    "scrolled": false
   },
   "outputs": [
    {
     "data": {
      "image/png": "[encoded data removed]",
      "text/plain": [
       "<Figure size 432x288 with 1 Axes>"
      ]
     },
     "metadata": {},
     "output_type": "display_data"
    }
   ],
   "source": [
    "utilities, N = read_input('Test_Cases/test2_3.txt')\n",
    "points = convex_hull_points(utilities, N)\n",
    "plot_convex_hull(utilities, points)"
   ]
  }
 ],
 "metadata": {
  "kernelspec": {
   "display_name": "Python 3",
   "language": "python",
   "name": "python3"
  },
  "language_info": {
   "codemirror_mode": {
    "name": "ipython",
    "version": 3
   },
   "file_extension": ".py",
   "mimetype": "text/x-python",
   "name": "python",
   "nbconvert_exporter": "python",
   "pygments_lexer": "ipython3",
   "version": "3.8.2"
  }
 },
 "nbformat": 4,
 "nbformat_minor": 2
}
