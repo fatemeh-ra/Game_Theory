{
 "cells": [
  {
   "cell_type": "markdown",
   "metadata": {},
   "source": [
    "# Pure Pareto-optimal strategies n-player"
   ]
  },
  {
   "cell_type": "markdown",
   "metadata": {},
   "source": [
    "### Input Representation:\n",
    "#### first line:\n",
    "number of players, number of total payoff vectors(S)\n",
    "#### S lines\n",
    "utility of each player"
   ]
  },
  {
   "cell_type": "code",
   "execution_count": 1,
   "metadata": {},
   "outputs": [],
   "source": [
    "def read_input2(path):\n",
    "    f = open(path, 'r')\n",
    "    N, S = [int(i) for i in f.readline().split()]\n",
    "\n",
    "    points = []\n",
    "    c = 0\n",
    "    for i in range(S):\n",
    "        points.append(tuple([int(j) for j in f.readline().split()]))\n",
    "    return points, N"
   ]
  },
  {
   "cell_type": "code",
   "execution_count": 2,
   "metadata": {},
   "outputs": [],
   "source": [
    "def find_pareto_optimals(points, N):\n",
    "    points.sort(reverse= True)\n",
    "    pareto = []\n",
    "    for p in points:\n",
    "        flag = 1\n",
    "        for q in pareto:\n",
    "            x = 0\n",
    "            for i in range(N):\n",
    "                if p[i]> q[i]: \n",
    "                    x = 1\n",
    "            if(x == 0):\n",
    "                flag = 0\n",
    "                break\n",
    "        if flag == 1: pareto.append(p)\n",
    "    return pareto"
   ]
  },
  {
   "cell_type": "markdown",
   "metadata": {},
   "source": [
    "## Example 1"
   ]
  },
  {
   "cell_type": "code",
   "execution_count": 5,
   "metadata": {},
   "outputs": [
    {
     "data": {
      "text/plain": [
       "[(5, 4, 3), (4, 5, 2), (4, 4, 4), (3, 5, 3)]"
      ]
     },
     "execution_count": 5,
     "metadata": {},
     "output_type": "execute_result"
    }
   ],
   "source": [
    "P, N = read_input2('test2_4.txt')\n",
    "find_pareto_optimals(P, N)"
   ]
  },
  {
   "cell_type": "code",
   "execution_count": 6,
   "metadata": {},
   "outputs": [
    {
     "data": {
      "text/plain": [
       "[(5, 4, 3), (4, 5, 2), (4, 4, 4), (4, 4, 3), (3, 5, 3)]"
      ]
     },
     "execution_count": 6,
     "metadata": {},
     "output_type": "execute_result"
    }
   ],
   "source": [
    "P.sort(reverse=True)\n",
    "P"
   ]
  }
 ],
 "metadata": {
  "kernelspec": {
   "display_name": "Python 3",
   "language": "python",
   "name": "python3"
  },
  "language_info": {
   "codemirror_mode": {
    "name": "ipython",
    "version": 3
   },
   "file_extension": ".py",
   "mimetype": "text/x-python",
   "name": "python",
   "nbconvert_exporter": "python",
   "pygments_lexer": "ipython3",
   "version": "3.8.2"
  }
 },
 "nbformat": 4,
 "nbformat_minor": 4
}
